{
 "cells": [
  {
   "cell_type": "markdown",
   "metadata": {},
   "source": [
    "<h1 align=center> &nbsp;&nbsp;&nbsp;&nbsp;&nbsp;&nbsp;&nbsp;数据科学引论 - Python之道 </h1>\n",
    "\n",
    "<h1 align=center> &nbsp;&nbsp;&nbsp;&nbsp;&nbsp;&nbsp;&nbsp;&nbsp;第5课 数据收集 - Python网络爬虫实践 I </h1>"
   ]
  },
  {
   "cell_type": "markdown",
   "metadata": {},
   "source": [
    "# 爬虫概述\n",
    "在阅读这个样例之前，建议先了解爬虫是什么，简单理解url、爬虫技术、网页html等基本概念。\n",
    "\n",
    "本笔记本所依赖Python爬虫Beautiful Soup，大家可以通过命令```pip3 install beautifulsoup4``` 或 ```pip3 install beautifulsoup4``` 安装所需依赖包。"
   ]
  },
  {
   "cell_type": "markdown",
   "metadata": {},
   "source": [
    "# 定义爬虫的任务\n",
    "\n",
    "## 涉及的语法\n",
    "语法涉及类（面向对象）、列表list、字典dict、循环、函数、字符串操作、文件读写\n",
    "\n",
    "## 概述\n",
    "这个爬虫的任务是爬取http://quotes.toscrape.com/page/1/ 的前两页，提取每条名言的文字内容，作者和标签，最后以JSON格式保存到文件中\n",
    "\n",
    "\n",
    "## 如何修改\n",
    "\n",
    "在自己做定制时，只需要修改`__init__`和`parse`两个方法，通俗讲__init__方法决定了爬取哪些网站，parse则指明了在每一个网页上爬取哪些内容\n",
    "- init_urls: 设置待爬取网站的列表和保存文件路径，其中变量self.urls是待爬取网站的列表，self.file是一个文件对象\n",
    "- parse：方法内是针对每个url成功访问之后进行的页面解析\n",
    "   关于如何解析具体网页，可根据实际需要查看Beautiful Soup的官方文档 https://www.crummy.com/software/BeautifulSoup/bs4/doc.zh/"
   ]
  },
  {
   "cell_type": "code",
   "execution_count": 4,
   "metadata": {},
   "outputs": [],
   "source": [
    "from bs4 import BeautifulSoup\n",
    "import urllib\n",
    "import time\n",
    "import json\n",
    "import os\n",
    "\n",
    "class MySpider():\n",
    "    \n",
    "    name = \"spider\"\n",
    "    \n",
    "    \n",
    "    \n",
    "    def __init__(self):\n",
    "        \n",
    "        self.file = open('demo1_quotes_bs.json', 'w');\n",
    "        \n",
    "        #设置待爬取网站列表\n",
    "        self.urls = []\n",
    "        for i in range(1,3):\n",
    "            self.urls.append('http://quotes.toscrape.com/page/' + str(i) + '/' )\n",
    "            \n",
    "#       初始化效果 效果等同\n",
    "#         self.urls = [\n",
    "#             'http://quotes.toscrape.com/page/1/',\n",
    "#             'http://quotes.toscrape.com/page/2/',\n",
    "#         ]\n",
    "\n",
    "        # 设置header\n",
    "        self.headers = {'USER_AGENT': 'Mozilla/4.0 (compatible; MSIE 7.0; Windows NT 5.1)'}\n",
    "\n",
    "        \n",
    "        print(self.urls)\n",
    "        \n",
    "    \n",
    "    # 利用urllib获取网站的html，并导入BeautifulSoup\n",
    "    def bs_request(self, url):\n",
    "        request = urllib.request.Request(url, headers=self.headers)\n",
    "        html = urllib.request.urlopen(request).read()\n",
    "        response = BeautifulSoup(html,'html.parser')\n",
    "        self.parse(url,response)\n",
    "        \n",
    "    # start函数，调用此函数可开始爬虫   \n",
    "    def start(self):\n",
    "        for url in self.urls:\n",
    "            self.bs_request(url)\n",
    "    \n",
    "\n",
    "    # parse方法用于解析html文件\n",
    "    def parse(self, url, response):\n",
    "        \n",
    "        #提取名言列表\n",
    "        quotes = response.find_all(\"div\", class_=\"quote\")\n",
    "        for quote in quotes:\n",
    "            #提取每条名言中的作者名\n",
    "            author = quote.find(\"small\", class_=\"author\").get_text()\n",
    "            #提取名言的文字内容\n",
    "            text = quote.find(class_=\"text\").get_text()\n",
    "            #提取名言标签\n",
    "            tags = [t.get_text() for t in quote.select(\".tags .tag\")]\n",
    "            #构建字典对象\n",
    "            item = {\"author\":author, \"text\": text, \"tags\":tags }\n",
    "            #将字典转换成json字符串\n",
    "            line = json.dumps(dict(item))\n",
    "            #将每个条目写入文件\n",
    "            self.file.write(line + \"\\n\")\n",
    "        #及时将内容写入文件，否则可能会出现少许延迟\n",
    "        self.file.flush()\n",
    "        os.fsync(self.file)\n",
    "        #输出当前解析完成的网页网址，可以当做爬取进度来看待,与程序逻辑无关\n",
    "        print(\"over: \" + url)"
   ]
  },
  {
   "cell_type": "code",
   "execution_count": 5,
   "metadata": {},
   "outputs": [
    {
     "name": "stdout",
     "output_type": "stream",
     "text": [
      "['http://quotes.toscrape.com/page/1/', 'http://quotes.toscrape.com/page/2/']\n",
      "over: http://quotes.toscrape.com/page/1/\n",
      "over: http://quotes.toscrape.com/page/2/\n"
     ]
    }
   ],
   "source": [
    "# 新建爬虫对象\n",
    "spider = MySpider()\n",
    "\n",
    "# 开始爬虫\n",
    "spider.start()"
   ]
  },
  {
   "cell_type": "code",
   "execution_count": 6,
   "metadata": {},
   "outputs": [
    {
     "name": "stdout",
     "output_type": "stream",
     "text": [
      "<__main__.MySpider object at 0x103cf2710>\n"
     ]
    }
   ],
   "source": [
    "print(spider)"
   ]
  },
  {
   "cell_type": "code",
   "execution_count": 12,
   "metadata": {},
   "outputs": [
    {
     "name": "stdout",
     "output_type": "stream",
     "text": [
      "{'author': 'Albert Einstein', 'text': '“The world as we have created it is a process of our thinking. It cannot be changed without changing our thinking.”', 'tags': ['change', 'deep-thoughts', 'thinking', 'world']}\n",
      "{'author': 'J.K. Rowling', 'text': '“It is our choices, Harry, that show what we truly are, far more than our abilities.”', 'tags': ['abilities', 'choices']}\n",
      "{'author': 'Albert Einstein', 'text': '“There are only two ways to live your life. One is as though nothing is a miracle. The other is as though everything is a miracle.”', 'tags': ['inspirational', 'life', 'live', 'miracle', 'miracles']}\n",
      "{'author': 'Jane Austen', 'text': '“The person, be it gentleman or lady, who has not pleasure in a good novel, must be intolerably stupid.”', 'tags': ['aliteracy', 'books', 'classic', 'humor']}\n",
      "{'author': 'Marilyn Monroe', 'text': \"“Imperfection is beauty, madness is genius and it's better to be absolutely ridiculous than absolutely boring.”\", 'tags': ['be-yourself', 'inspirational']}\n",
      "{'author': 'Albert Einstein', 'text': '“Try not to become a man of success. Rather become a man of value.”', 'tags': ['adulthood', 'success', 'value']}\n",
      "{'author': 'André Gide', 'text': '“It is better to be hated for what you are than to be loved for what you are not.”', 'tags': ['life', 'love']}\n",
      "{'author': 'Thomas A. Edison', 'text': \"“I have not failed. I've just found 10,000 ways that won't work.”\", 'tags': ['edison', 'failure', 'inspirational', 'paraphrased']}\n",
      "{'author': 'Eleanor Roosevelt', 'text': \"“A woman is like a tea bag; you never know how strong it is until it's in hot water.”\", 'tags': ['misattributed-eleanor-roosevelt']}\n",
      "{'author': 'Steve Martin', 'text': '“A day without sunshine is like, you know, night.”', 'tags': ['humor', 'obvious', 'simile']}\n",
      "{'author': 'Marilyn Monroe', 'text': \"“This life is what you make it. No matter what, you're going to mess up sometimes, it's a universal truth. But the good part is you get to decide how you're going to mess it up. Girls will be your friends - they'll act like it anyway. But just remember, some come, some go. The ones that stay with you through everything - they're your true best friends. Don't let go of them. Also remember, sisters make the best friends in the world. As for lovers, well, they'll come and go too. And baby, I hate to say it, most of them - actually pretty much all of them are going to break your heart, but you can't give up because if you give up, you'll never find your soulmate. You'll never find that half who makes you whole and that goes for everything. Just because you fail once, doesn't mean you're gonna fail at everything. Keep trying, hold on, and always, always, always believe in yourself, because if you don't, then who will, sweetie? So keep your head high, keep your chin up, and most importantly, keep smiling, because life's a beautiful thing and there's so much to smile about.”\", 'tags': ['friends', 'heartbreak', 'inspirational', 'life', 'love', 'sisters']}\n",
      "{'author': 'J.K. Rowling', 'text': '“It takes a great deal of bravery to stand up to our enemies, but just as much to stand up to our friends.”', 'tags': ['courage', 'friends']}\n",
      "{'author': 'Albert Einstein', 'text': \"“If you can't explain it to a six year old, you don't understand it yourself.”\", 'tags': ['simplicity', 'understand']}\n",
      "{'author': 'Bob Marley', 'text': \"“You may not be her first, her last, or her only. She loved before she may love again. But if she loves you now, what else matters? She's not perfect—you aren't either, and the two of you may never be perfect together but if she can make you laugh, cause you to think twice, and admit to being human and making mistakes, hold onto her and give her the most you can. She may not be thinking about you every second of the day, but she will give you a part of her that she knows you can break—her heart. So don't hurt her, don't change her, don't analyze and don't expect more than she can give. Smile when she makes you happy, let her know when she makes you mad, and miss her when she's not there.”\", 'tags': ['love']}\n",
      "{'author': 'Dr. Seuss', 'text': '“I like nonsense, it wakes up the brain cells. Fantasy is a necessary ingredient in living.”', 'tags': ['fantasy']}\n",
      "{'author': 'Douglas Adams', 'text': '“I may not have gone where I intended to go, but I think I have ended up where I needed to be.”', 'tags': ['life', 'navigation']}\n",
      "{'author': 'Elie Wiesel', 'text': \"“The opposite of love is not hate, it's indifference. The opposite of art is not ugliness, it's indifference. The opposite of faith is not heresy, it's indifference. And the opposite of life is not death, it's indifference.”\", 'tags': ['activism', 'apathy', 'hate', 'indifference', 'inspirational', 'love', 'opposite', 'philosophy']}\n",
      "{'author': 'Friedrich Nietzsche', 'text': '“It is not a lack of love, but a lack of friendship that makes unhappy marriages.”', 'tags': ['friendship', 'lack-of-friendship', 'lack-of-love', 'love', 'marriage', 'unhappy-marriage']}\n",
      "{'author': 'Mark Twain', 'text': '“Good friends, good books, and a sleepy conscience: this is the ideal life.”', 'tags': ['books', 'contentment', 'friends', 'friendship', 'life']}\n",
      "{'author': 'Allen Saunders', 'text': '“Life is what happens to us while we are making other plans.”', 'tags': ['fate', 'life', 'misattributed-john-lennon', 'planning', 'plans']}\n"
     ]
    }
   ],
   "source": [
    "data_list = []  # 存储解析后的JSON对象的列表\n",
    "\n",
    "with open(\"demo1_quotes_bs.json\", \"r\") as json_file:\n",
    "    for line in json_file:\n",
    "        try:\n",
    "            json_data = json.loads(line)\n",
    "            data_list.append(json_data)\n",
    "        except json.JSONDecodeError as e:\n",
    "            print(f\"JSON解析错误：{e}\")\n",
    "\n",
    "# 现在data_list中包含了所有JSON对象的列表\n",
    "for item in data_list:\n",
    "    print(item)\n"
   ]
  }
 ],
 "metadata": {
  "kernelspec": {
   "display_name": "Python 3 (ipykernel)",
   "language": "python",
   "name": "python3"
  },
  "language_info": {
   "codemirror_mode": {
    "name": "ipython",
    "version": 3
   },
   "file_extension": ".py",
   "mimetype": "text/x-python",
   "name": "python",
   "nbconvert_exporter": "python",
   "pygments_lexer": "ipython3",
   "version": "3.10.9"
  }
 },
 "nbformat": 4,
 "nbformat_minor": 4
}
