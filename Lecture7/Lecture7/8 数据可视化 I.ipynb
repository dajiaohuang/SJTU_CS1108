{
 "cells": [
  {
   "cell_type": "markdown",
   "metadata": {},
   "source": [
    "<h1 align=center> &nbsp;&nbsp;&nbsp;&nbsp;&nbsp;&nbsp;&nbsp;数据科学引论 - Python之道 </h1>\n",
    "\n",
    "<h1 align=center> &nbsp;&nbsp;&nbsp;&nbsp;&nbsp;&nbsp;&nbsp;&nbsp;第8课 数据可视化 I - 美国人的死因分析</h1>"
   ]
  },
  {
   "cell_type": "markdown",
   "metadata": {},
   "source": [
    "#### 目录\n",
    "1. [美国人是怎么死的?死亡率之可视化](#top)\n",
    "1. [matplotlib库](#mpl)\n",
    "1. [获得数据](#getdata)\n",
    "1. [理解数据](#understand)\n",
    "1. [死亡: 年份](#year)\n",
    "1. [死亡: 男性 vs. 女性](#gender)\n",
    "1. [死亡: 年龄](#age)\n",
    "1. [死亡: 年龄 & 性别](#ageXgender)\n",
    "1. [死亡: 2015十大死因](#causeX2015)\n",
    "1. [死亡: 每年十大死因](#causeXyear)\n",
    "1. [死亡: 来自性别的死因](#causeXgender)\n",
    "1. [死亡: 来自年龄的死因](#causeXage)\n",
    "1. [死亡: 来自性别和年龄的死因](#causeXgenderXage)"
   ]
  },
  {
   "cell_type": "markdown",
   "metadata": {},
   "source": [
    "# 美国人是怎么死的? 死亡率之可视化"
   ]
  },
  {
   "cell_type": "markdown",
   "metadata": {},
   "source": [
    "**死亡** 一个可怕的主题，也是一个政府相当关心的主题。\n",
    "\n",
    "在美国，疾病控制和预防中心（CDC）统计了一份从1999年至2015年的数据。这份数据信息量很丰富，包括死亡年龄、死因、性别甚至种族和地理城市。\n",
    "\n",
    "对于这些数据，我们有下面三个问题 :\n",
    "- 美国最大的死因是什么? \n",
    "- 男人比女人更容易死吗? 死亡与年龄相关吗? \n",
    "- 随着时间的推移，哪些死因变得更加流行，哪些死因变得少见？"
   ]
  },
  {
   "cell_type": "markdown",
   "metadata": {},
   "source": [
    "#### 学习数据可视化"
   ]
  },
  {
   "cell_type": "markdown",
   "metadata": {},
   "source": [
    "**matplotlib**，python最流行的数据可视化包之一。\n",
    "\n",
    "有很多不同方式去使用matplotlib，在此只介绍最基础的。如果你有兴趣，更多内容见文档[here](http://matplotlib.org/)."
   ]
  },
  {
   "cell_type": "markdown",
   "metadata": {},
   "source": [
    "<a id=\"mpl\"></a>\n",
    "## 载入 `matplotlib` 库"
   ]
  },
  {
   "cell_type": "code",
   "execution_count": null,
   "metadata": {},
   "outputs": [],
   "source": [
    "import pandas as pd\n",
    "import matplotlib.pyplot as plt\n",
    "from imp import reload\n",
    "\n",
    "#enable graphs to be displayed in notebooks\n",
    "%matplotlib inline \n",
    "\n",
    "#enable encoding of Chinese characters\n",
    "import sys\n",
    "reload(sys) \n",
    "#python2 sys.setdefaultencoding('GBK') #warning may display but is OK"
   ]
  },
  {
   "cell_type": "markdown",
   "metadata": {},
   "source": [
    "<a id=\"getdata\"></a>\n",
    "## 获得数据"
   ]
  },
  {
   "cell_type": "markdown",
   "metadata": {},
   "source": [
    "从下面的链接中下载deaths.csv"
   ]
  },
  {
   "cell_type": "code",
   "execution_count": null,
   "metadata": {},
   "outputs": [],
   "source": [
    "#linux !wget --output-document /resources/data/deaths.csv https://ibm.box.com/shared/static/10iexjaa280qz4xcdtu98xlv51hqiybe.csv"
   ]
  },
  {
   "cell_type": "markdown",
   "metadata": {},
   "source": [
    "读取 `deaths.csv`文件内容:"
   ]
  },
  {
   "cell_type": "code",
   "execution_count": null,
   "metadata": {
    "scrolled": true
   },
   "outputs": [],
   "source": [
    "#linux df = pd.read_csv(\"/resources/data/deaths.csv\", encoding='GBK')\n",
    "df = pd.read_csv(\"resources/data/deaths.csv\", encoding='GBK')"
   ]
  },
  {
   "cell_type": "markdown",
   "metadata": {},
   "source": [
    "很好! 现在数据都在变量 **```df```** 内了"
   ]
  },
  {
   "cell_type": "markdown",
   "metadata": {},
   "source": [
    "<a id=\"understand\"></a>\n",
    "## 理解数据"
   ]
  },
  {
   "cell_type": "markdown",
   "metadata": {},
   "source": [
    "#### 前10行:"
   ]
  },
  {
   "cell_type": "code",
   "execution_count": null,
   "metadata": {},
   "outputs": [],
   "source": [
    "df.head(310)"
   ]
  },
  {
   "cell_type": "markdown",
   "metadata": {},
   "source": [
    "#### 倒数5行:"
   ]
  },
  {
   "cell_type": "code",
   "execution_count": null,
   "metadata": {},
   "outputs": [],
   "source": [
    "df.tail(5)"
   ]
  },
  {
   "cell_type": "markdown",
   "metadata": {},
   "source": [
    "#### 死亡年龄的汇总情况"
   ]
  },
  {
   "cell_type": "code",
   "execution_count": null,
   "metadata": {},
   "outputs": [],
   "source": [
    "df.Age.describe()"
   ]
  },
  {
   "cell_type": "markdown",
   "metadata": {},
   "source": [
    "#### 数据集涉及了哪几个年份?"
   ]
  },
  {
   "cell_type": "code",
   "execution_count": null,
   "metadata": {},
   "outputs": [],
   "source": [
    "df.Year.unique()"
   ]
  },
  {
   "cell_type": "markdown",
   "metadata": {},
   "source": [
    "#### 确认性别是否只有男性male和女性female。"
   ]
  },
  {
   "cell_type": "code",
   "execution_count": null,
   "metadata": {},
   "outputs": [],
   "source": [
    "df.Gender.unique()"
   ]
  },
  {
   "cell_type": "markdown",
   "metadata": {},
   "source": [
    "#### 死亡人数汇总?"
   ]
  },
  {
   "cell_type": "code",
   "execution_count": null,
   "metadata": {},
   "outputs": [],
   "source": [
    "df.Deaths.describe()"
   ]
  },
  {
   "cell_type": "markdown",
   "metadata": {},
   "source": [
    "#### 数据集中有哪些死因?"
   ]
  },
  {
   "cell_type": "code",
   "execution_count": null,
   "metadata": {},
   "outputs": [],
   "source": [
    "causes = df[['Cause', 'CauseCN']].drop_duplicates(subset = ['Cause','CauseCN']) #remove duplicates\n",
    "causes = causes.sort_values(['Cause']) #sort\n",
    "causes.index=range(0, len(causes)) #re-index the row numbers\n",
    "causes"
   ]
  },
  {
   "cell_type": "markdown",
   "metadata": {},
   "source": [
    "<a id=\"year\"></a>\n",
    "## 死亡: 年份"
   ]
  },
  {
   "cell_type": "markdown",
   "metadata": {},
   "source": [
    "#### 再看看数据:"
   ]
  },
  {
   "cell_type": "code",
   "execution_count": null,
   "metadata": {},
   "outputs": [],
   "source": [
    "df.head(3)"
   ]
  },
  {
   "cell_type": "markdown",
   "metadata": {},
   "source": [
    "####  2005, 2010，2015死亡人数分别为多少?"
   ]
  },
  {
   "cell_type": "markdown",
   "metadata": {},
   "source": [
    "我们先按照年份进行分组，然后对**死亡数**列求和，就可以得到每年的死亡数"
   ]
  },
  {
   "cell_type": "code",
   "execution_count": null,
   "metadata": {},
   "outputs": [],
   "source": [
    "by_year = df.groupby(\"Year\").Deaths.sum()\n",
    "by_year"
   ]
  },
  {
   "cell_type": "markdown",
   "metadata": {},
   "source": [
    "使用 **```.plot()```** 画图"
   ]
  },
  {
   "cell_type": "code",
   "execution_count": null,
   "metadata": {
    "scrolled": true
   },
   "outputs": [],
   "source": [
    "by_year.plot(kind = \"bar\")"
   ]
  },
  {
   "cell_type": "markdown",
   "metadata": {},
   "source": [
    "#### 我们可以用一句话重写上述过程，这样看起来更加简洁。"
   ]
  },
  {
   "cell_type": "code",
   "execution_count": null,
   "metadata": {},
   "outputs": [],
   "source": [
    "# Making syntax easier to read. \\ tells Python to continue to the next line before executing \n",
    "df.groupby(\"Year\")\\\n",
    ".Deaths\\\n",
    ".sum()\\\n",
    ".plot(kind = \"bar\")"
   ]
  },
  {
   "cell_type": "markdown",
   "metadata": {},
   "source": [
    "<a id=\"gender\"></a>\n",
    "## 死亡: 男性 vs. 女性"
   ]
  },
  {
   "cell_type": "markdown",
   "metadata": {},
   "source": [
    "在2015年，哪个性别死亡率更高？"
   ]
  },
  {
   "cell_type": "code",
   "execution_count": null,
   "metadata": {},
   "outputs": [],
   "source": [
    "df2015 = df[df.Year == 2015]\n",
    "\n",
    "df2015\\\n",
    ".groupby(\"Gender\")\\\n",
    ".Deaths\\\n",
    ".sum()"
   ]
  },
  {
   "cell_type": "markdown",
   "metadata": {},
   "source": [
    "#### <font color=\"red\"> 练习: </font>你可以创建一个简单的图来表示每个性别的死亡总数吗?\n",
    "\n",
    "注意，使用2015年的数据。"
   ]
  },
  {
   "cell_type": "code",
   "execution_count": null,
   "metadata": {},
   "outputs": [],
   "source": [
    "## HIDE AS SOLUTION:\n",
    "df2015\\\n",
    ".groupby(\"Gender\")\\\n",
    ".Deaths\\\n",
    ".sum()\\\n",
    ".plot(kind = \"bar\")"
   ]
  },
  {
   "cell_type": "markdown",
   "metadata": {},
   "source": [
    "让我们给图上色: <font color=red>红色</font>表示女性<font color=blue>蓝色</font>表示男性.\n",
    "我们可以这样添加颜色：\n",
    "> `.plot(kind = \"bar\", ` **`color = [\"red\", \"blue\"]`**`)`"
   ]
  },
  {
   "cell_type": "code",
   "execution_count": null,
   "metadata": {},
   "outputs": [],
   "source": [
    "df2015\\\n",
    ".groupby(\"Gender\")\\\n",
    ".Deaths\\\n",
    ".sum()\\\n",
    ".plot(kind = \"bar\", color=['red', 'blue'])"
   ]
  },
  {
   "cell_type": "markdown",
   "metadata": {},
   "source": [
    "<a id=\"age\"></a>\n",
    "## 死亡: 年龄"
   ]
  },
  {
   "cell_type": "markdown",
   "metadata": {},
   "source": [
    "2015年死亡人员的年龄情况？"
   ]
  },
  {
   "cell_type": "code",
   "execution_count": null,
   "metadata": {},
   "outputs": [],
   "source": [
    "df2015\\\n",
    ".groupby(\"Age\")\\\n",
    ".Deaths\\\n",
    ".sum()\\\n",
    ".plot(kind = \"bar\", color = \"grey\")"
   ]
  },
  {
   "cell_type": "markdown",
   "metadata": {},
   "source": [
    "上面这张图比较难观察，太小了！\n",
    "\n",
    "我们可以增大图的尺寸\n",
    "> .plot(kind = \"bar\",  figsize = [18,6] )"
   ]
  },
  {
   "cell_type": "code",
   "execution_count": null,
   "metadata": {},
   "outputs": [],
   "source": [
    "df2015\\\n",
    ".groupby(\"Age\")\\\n",
    ".Deaths\\\n",
    ".sum()\\\n",
    ".plot(kind = \"bar\", color = \"grey\", figsize = [18,6])"
   ]
  },
  {
   "cell_type": "markdown",
   "metadata": {},
   "source": [
    "<font color=\"green\"> 讨论: 你从图中发现了什么? </font>"
   ]
  },
  {
   "cell_type": "markdown",
   "metadata": {},
   "source": [
    "<a id=\"ageXgender\"></a>\n",
    "## 死亡: 年龄和性别"
   ]
  },
  {
   "cell_type": "markdown",
   "metadata": {},
   "source": [
    "#### 死亡年龄与性别有关吗？"
   ]
  },
  {
   "cell_type": "markdown",
   "metadata": {},
   "source": [
    "根据两个变量进行分组：\n",
    "> `.groupby(`**`[\"Age\", \"Gender\"]`**`)`"
   ]
  },
  {
   "cell_type": "code",
   "execution_count": null,
   "metadata": {},
   "outputs": [],
   "source": [
    "df2015\\\n",
    ".groupby([\"Age\", \"Gender\"])\\\n",
    ".Deaths\\\n",
    ".sum()"
   ]
  },
  {
   "cell_type": "markdown",
   "metadata": {},
   "source": [
    "#### 让我们创建两个子图，分别是女性和男性的死亡年龄。\n",
    "> ...  \n",
    "> **`.unstack(1)`**`\\`  \n",
    "> `.plot(kind = \"bar\", ` **` subplots = True`**`)`"
   ]
  },
  {
   "cell_type": "code",
   "execution_count": null,
   "metadata": {},
   "outputs": [],
   "source": [
    "df2015\\\n",
    ".groupby([\"Age\", \"Gender\"])\\\n",
    ".Deaths\\\n",
    ".sum()\\\n",
    ".unstack(1)\\\n",
    ".plot(kind = \"bar\", color = [\"red\",\"blue\"], figsize = [18,10], subplots = True)"
   ]
  },
  {
   "cell_type": "markdown",
   "metadata": {},
   "source": [
    "<font color=\"green\"> 讨论: 从图中你发现了什么? </font>"
   ]
  },
  {
   "cell_type": "markdown",
   "metadata": {},
   "source": [
    "我们可以把男性和女性的数据堆在一张图里：\n",
    ">`.plot(kind = \"bar\", ` **`stacked = True`**`)`"
   ]
  },
  {
   "cell_type": "code",
   "execution_count": null,
   "metadata": {},
   "outputs": [],
   "source": [
    "df2015\\\n",
    ".groupby([\"Age\", \"Gender\"])\\\n",
    ".Deaths\\\n",
    ".sum()\\\n",
    ".unstack(1)\\\n",
    ".plot(kind = \"bar\", color = [\"red\",\"blue\"], figsize = [18,10], stacked = True)"
   ]
  },
  {
   "cell_type": "markdown",
   "metadata": {},
   "source": [
    "但是这并不能很好地对比两个性别的差距。"
   ]
  },
  {
   "cell_type": "markdown",
   "metadata": {},
   "source": [
    "#### 因为年龄是数值变量，所以使用折线图可能更加容易对比:\n",
    "> `.plot(kind = \"`**`line`**`\")`"
   ]
  },
  {
   "cell_type": "code",
   "execution_count": null,
   "metadata": {},
   "outputs": [],
   "source": [
    "df2015\\\n",
    ".groupby([\"Age\", \"Gender\"])\\\n",
    ".Deaths\\\n",
    ".sum()\\\n",
    ".unstack(1)\\\n",
    ".plot(kind = \"line\", figsize = [18,10], subplots = True)"
   ]
  },
  {
   "cell_type": "markdown",
   "metadata": {},
   "source": [
    "有了曲线之后，对比变得方便了，我们要把两根线同时绘制到一张图:\n",
    ">`...`  \n",
    ">**`.unstack(1)`**`\\`  \n",
    ">`.plot(kind = \"line\")   #Default: subplots = False`"
   ]
  },
  {
   "cell_type": "code",
   "execution_count": null,
   "metadata": {},
   "outputs": [],
   "source": [
    "df2015\\\n",
    ".groupby([\"Age\", \"Gender\"])\\\n",
    ".Deaths\\\n",
    ".sum()\\\n",
    ".unstack(1)\\\n",
    ".plot(kind = \"line\", color = [\"red\",\"blue\"], figsize = [18,6])"
   ]
  },
  {
   "cell_type": "markdown",
   "metadata": {},
   "source": [
    "让我们增加一个题目和y坐标的名称。\n",
    "\n",
    "> `.plot(kind = \"line\",` **`title = \"Deaths in 2015 by Age and Gender\"`**`)`\n"
   ]
  },
  {
   "cell_type": "code",
   "execution_count": null,
   "metadata": {},
   "outputs": [],
   "source": [
    "df2015\\\n",
    ".groupby([\"Age\", \"Gender\"])\\\n",
    ".Deaths\\\n",
    ".sum()\\\n",
    ".unstack(1)\\\n",
    ".plot(kind = \"line\", color = [\"red\",\"blue\"], figsize = [18,6], title = \"Deaths in 2015 by Age and Gender\")"
   ]
  },
  {
   "cell_type": "markdown",
   "metadata": {},
   "source": [
    "<a id=\"causeX2015\"></a>\n",
    "## 死亡: 2015年最大死因"
   ]
  },
  {
   "cell_type": "markdown",
   "metadata": {},
   "source": [
    "让我们查看一下2015年最大的死因。"
   ]
  },
  {
   "cell_type": "code",
   "execution_count": null,
   "metadata": {
    "scrolled": false
   },
   "outputs": [],
   "source": [
    "df2015\\\n",
    ".groupby([\"Cause\"])\\\n",
    ".Deaths\\\n",
    ".sum()\\\n",
    ".plot(kind = \"bar\", color = \"black\")"
   ]
  },
  {
   "cell_type": "markdown",
   "metadata": {},
   "source": [
    "这张图观察起来非常困难，我们需要先对数据**排序**，然后将图表**旋转90度**。\n",
    "1. 数据排序:\n",
    "> **`.sort('Deaths', ascending = True)`**\n",
    "\n",
    "2. 创建水平柱状图 \n",
    "> **`.plot(kind = \"barh\")`**"
   ]
  },
  {
   "cell_type": "code",
   "execution_count": null,
   "metadata": {},
   "outputs": [],
   "source": [
    "df2015\\\n",
    ".groupby([\"Cause\"])\\\n",
    ".agg({'Deaths' : sum})\\\n",
    ".sort_values('Deaths', ascending = True)\\\n",
    ".plot(kind = \"barh\", legend = False, color = \"black\", figsize = [10,8])"
   ]
  },
  {
   "cell_type": "markdown",
   "metadata": {},
   "source": [
    "#### 让我们找出2015年十大死因\n",
    "\n",
    "我们可以在排序后取最后的10个死因:\n",
    ">`.sort('Deaths', ascending = True)`**`[-10:]`**`\\`"
   ]
  },
  {
   "cell_type": "code",
   "execution_count": null,
   "metadata": {},
   "outputs": [],
   "source": [
    "df2015\\\n",
    ".groupby([\"Cause\"])\\\n",
    ".agg({'Deaths' : sum})\\\n",
    ".sort_values('Deaths')[-10:]\\\n",
    ".plot(kind = \"barh\", legend = False, color = \"black\", figsize = [10,8], title = \"2015 Top 10 Causes of Death in USA\")"
   ]
  },
  {
   "cell_type": "markdown",
   "metadata": {},
   "source": [
    "<a id=\"causeXyear\"></a>\n",
    "## 死亡: 每年的最大死因"
   ]
  },
  {
   "cell_type": "code",
   "execution_count": null,
   "metadata": {},
   "outputs": [],
   "source": [
    "df\\\n",
    ".groupby([\"Cause\",\"Year\"])\\\n",
    ".agg({'Deaths' : sum})\\\n",
    ".sort_values('Deaths')[0:]\\\n",
    ".unstack(0)\\\n",
    ".plot(kind = \"barh\", legend = True, figsize = [18,24])"
   ]
  },
  {
   "cell_type": "markdown",
   "metadata": {},
   "source": [
    "这张图内容太多，有很多信息并不直观，例如，你注意到HIV的死亡率在2005年后逐渐走低了吗？\n"
   ]
  },
  {
   "cell_type": "markdown",
   "metadata": {},
   "source": [
    "<a id=\"causeXgender\"></a>\n",
    "## 死亡: 跟性别有关的死因"
   ]
  },
  {
   "cell_type": "code",
   "execution_count": null,
   "metadata": {},
   "outputs": [],
   "source": [
    "df2015\\\n",
    ".sort_values('Deaths', ascending = False)\\\n",
    ".groupby([\"Cause\",\"Gender\"])\\\n",
    ".agg({'Deaths' : sum})\\\n",
    ".unstack(1)\\\n",
    ".plot(kind = \"barh\", color = [\"red\", \"blue\"], legend = True, figsize = [10,24])"
   ]
  },
  {
   "cell_type": "markdown",
   "metadata": {},
   "source": [
    "<a id=\"causeXage\"></a>\n",
    "## 死亡: 跟年龄有关的死因"
   ]
  },
  {
   "cell_type": "markdown",
   "metadata": {},
   "source": [
    "因为这里死因太多了，年龄也多，交叉在一起图表会非常地大，所以我们只选择其中一些死因来可视化：\n",
    "\n",
    "- \"Alzheimer's disease\" \n",
    "- \"Diseases of heart\" \n",
    "- \"Malignant neoplasms\" \n",
    "- \"Accidents (unintentional injuries)\""
   ]
  },
  {
   "cell_type": "code",
   "execution_count": null,
   "metadata": {
    "scrolled": true
   },
   "outputs": [],
   "source": [
    "clist = [\"Alzheimer's disease\", \n",
    "         \"Diseases of heart\", \n",
    "         \"Malignant neoplasms\", \n",
    "         \"Accidents (unintentional injuries)\"]\n",
    "\n",
    "df2015_clist = df2015[df2015[\"Cause\"].isin(clist)]\n",
    "\n",
    "df2015_clist\\\n",
    ".groupby([\"Age\",\"Cause\"])\\\n",
    ".agg({'Deaths' : sum})\\\n",
    ".sort_values('Deaths', ascending = False)\\\n",
    ".unstack(1)\\\n",
    ".plot(kind = \"line\", legend = True, figsize = [10,5])"
   ]
  },
  {
   "cell_type": "markdown",
   "metadata": {},
   "source": [
    "<a id=\"causeXgenderXage\"></a>\n",
    "## 死亡: 死因与性别、年龄的关系"
   ]
  },
  {
   "cell_type": "markdown",
   "metadata": {},
   "source": [
    "对两个性别、三个年份、51种死因的交叉可视化是十分困难的。因为内容太多，难以放入一张图中。\n",
    "最好的做法是选择性地展示一些有意义的数据。\n"
   ]
  },
  {
   "cell_type": "code",
   "execution_count": null,
   "metadata": {
    "scrolled": false
   },
   "outputs": [],
   "source": [
    "clist = df.Cause.unique()\n",
    "\n",
    "for cause in clist:\n",
    "    df2015_clist = df2015[df2015[\"Cause\"].isin([cause])]\n",
    "    \n",
    "    df2015_clist\\\n",
    "    .groupby([\"Age\",\"Gender\"])\\\n",
    "    .agg({'Deaths' : sum})\\\n",
    "    .unstack([1])\\\n",
    "    .plot(kind = \"line\", legend = True, color=('r','b'), figsize = [10,8], title = str(cause))"
   ]
  },
  {
   "cell_type": "markdown",
   "metadata": {},
   "source": [
    "<hr>"
   ]
  },
  {
   "cell_type": "markdown",
   "metadata": {},
   "source": [
    "<font color=\"green\"> 讨论: 上述图中你们发现了什么? </font>"
   ]
  }
 ],
 "metadata": {
  "anaconda-cloud": {},
  "kernelspec": {
   "display_name": "Python 3 (ipykernel)",
   "language": "python",
   "name": "python3"
  },
  "language_info": {
   "codemirror_mode": {
    "name": "ipython",
    "version": 3
   },
   "file_extension": ".py",
   "mimetype": "text/x-python",
   "name": "python",
   "nbconvert_exporter": "python",
   "pygments_lexer": "ipython3",
   "version": "3.10.9"
  }
 },
 "nbformat": 4,
 "nbformat_minor": 1
}
